{
 "cells": [
  {
   "cell_type": "markdown",
   "id": "c8b732cf",
   "metadata": {},
   "source": [
    "# Instalação"
   ]
  },
  {
   "cell_type": "code",
   "execution_count": null,
   "id": "c3e0e638",
   "metadata": {
    "scrolled": true
   },
   "outputs": [
    {
     "name": "stdout",
     "output_type": "stream",
     "text": [
      "Requirement already satisfied: pandas in c:\\python\\lib\\site-packages (2.0.2)\n",
      "Requirement already satisfied: python-dateutil>=2.8.2 in c:\\python\\lib\\site-packages (from pandas) (2.8.2)\n",
      "Requirement already satisfied: pytz>=2020.1 in c:\\python\\lib\\site-packages (from pandas) (2023.3)\n",
      "Requirement already satisfied: numpy>=1.20.3 in c:\\python\\lib\\site-packages (from pandas) (1.24.3)\n",
      "Requirement already satisfied: tzdata>=2022.1 in c:\\python\\lib\\site-packages (from pandas) (2023.3)\n",
      "Requirement already satisfied: six>=1.5 in c:\\python\\lib\\site-packages (from python-dateutil>=2.8.2->pandas) (1.16.0)\n"
     ]
    },
    {
     "name": "stderr",
     "output_type": "stream",
     "text": [
      "\n",
      "[notice] A new release of pip is available: 23.0.1 -> 23.1.2\n",
      "[notice] To update, run: python.exe -m pip install --upgrade pip\n"
     ]
    },
    {
     "name": "stdout",
     "output_type": "stream",
     "text": [
      "^C\n",
      "Requirement already satisfied: tabulate in c:\\python\\lib\\site-packages (0.9.0)\n"
     ]
    },
    {
     "name": "stderr",
     "output_type": "stream",
     "text": [
      "\n",
      "[notice] A new release of pip is available: 23.0.1 -> 23.1.2\n",
      "[notice] To update, run: python.exe -m pip install --upgrade pip\n"
     ]
    }
   ],
   "source": [
    "!pip install pandas\n",
    "!pip install tabulate\n",
    "!pip install numpy\n",
    "!pip install matplotlib"
   ]
  },
  {
   "cell_type": "code",
   "execution_count": null,
   "id": "28f8269f",
   "metadata": {},
   "outputs": [],
   "source": [
    "pip install jupyter_contrib_nbextensions\n"
   ]
  },
  {
   "cell_type": "markdown",
   "id": "ebb8695d",
   "metadata": {
    "heading_collapsed": true
   },
   "source": [
    "# Importando as Bibliotecas necessárias"
   ]
  },
  {
   "cell_type": "code",
   "execution_count": 268,
   "id": "6136fbfb",
   "metadata": {
    "hidden": true
   },
   "outputs": [],
   "source": [
    "import pandas as pd\n",
    "import numpy as np\n",
    "from tabulate import tabulate\n",
    "import matplotlib.pyplot as plt"
   ]
  },
  {
   "cell_type": "markdown",
   "id": "c1d0b895",
   "metadata": {
    "heading_collapsed": true
   },
   "source": [
    "# Sobre a Base de Dados"
   ]
  },
  {
   "cell_type": "markdown",
   "id": "1e97bd6f",
   "metadata": {
    "hidden": true
   },
   "source": [
    "Link da base de dados: https://archive.ics.uci.edu/ml/datasets/Adult"
   ]
  },
  {
   "cell_type": "markdown",
   "id": "ab73d697",
   "metadata": {
    "hidden": true
   },
   "source": [
    "A base de dados possui diversos atributos, \n",
    "E tem como objetivo estipular se determinada pessoa possui salário superior ou inferior a R$50.000"
   ]
  },
  {
   "cell_type": "code",
   "execution_count": 69,
   "id": "c0fb2be2",
   "metadata": {
    "hidden": true
   },
   "outputs": [],
   "source": [
    "#Lendo a base de dados através da biblioteca pandas:\n",
    "path = r\".\\databases\\adult_database.data\"\n",
    "data = pd.read_csv(path)"
   ]
  },
  {
   "cell_type": "code",
   "execution_count": 142,
   "id": "43d5e284",
   "metadata": {
    "collapsed": true,
    "hidden": true
   },
   "outputs": [
    {
     "data": {
      "text/html": [
       "<div>\n",
       "<style scoped>\n",
       "    .dataframe tbody tr th:only-of-type {\n",
       "        vertical-align: middle;\n",
       "    }\n",
       "\n",
       "    .dataframe tbody tr th {\n",
       "        vertical-align: top;\n",
       "    }\n",
       "\n",
       "    .dataframe thead th {\n",
       "        text-align: right;\n",
       "    }\n",
       "</style>\n",
       "<table border=\"1\" class=\"dataframe\">\n",
       "  <thead>\n",
       "    <tr style=\"text-align: right;\">\n",
       "      <th></th>\n",
       "      <th>Idade</th>\n",
       "      <th>Classe Trabalhadora</th>\n",
       "      <th>Peso Amostra Final</th>\n",
       "      <th>Educacao</th>\n",
       "      <th>Num Educacao</th>\n",
       "      <th>Estado Civil</th>\n",
       "      <th>Ocupacao</th>\n",
       "      <th>Relacionamento</th>\n",
       "      <th>Raca</th>\n",
       "      <th>Sexo</th>\n",
       "      <th>Ganho de Capital</th>\n",
       "      <th>Perda de Capital</th>\n",
       "      <th>Horas por Semana</th>\n",
       "      <th>Pais Nativo</th>\n",
       "      <th>Renda</th>\n",
       "    </tr>\n",
       "  </thead>\n",
       "  <tbody>\n",
       "    <tr>\n",
       "      <th>0</th>\n",
       "      <td>39</td>\n",
       "      <td>State-gov</td>\n",
       "      <td>77516</td>\n",
       "      <td>Bachelors</td>\n",
       "      <td>13</td>\n",
       "      <td>Never-married</td>\n",
       "      <td>Adm-clerical</td>\n",
       "      <td>Not-in-family</td>\n",
       "      <td>White</td>\n",
       "      <td>Male</td>\n",
       "      <td>2174</td>\n",
       "      <td>0</td>\n",
       "      <td>40</td>\n",
       "      <td>United-States</td>\n",
       "      <td>&lt;=50K</td>\n",
       "    </tr>\n",
       "    <tr>\n",
       "      <th>1</th>\n",
       "      <td>50</td>\n",
       "      <td>Self-emp-not-inc</td>\n",
       "      <td>83311</td>\n",
       "      <td>Bachelors</td>\n",
       "      <td>13</td>\n",
       "      <td>Married-civ-spouse</td>\n",
       "      <td>Exec-managerial</td>\n",
       "      <td>Husband</td>\n",
       "      <td>White</td>\n",
       "      <td>Male</td>\n",
       "      <td>0</td>\n",
       "      <td>0</td>\n",
       "      <td>13</td>\n",
       "      <td>United-States</td>\n",
       "      <td>&lt;=50K</td>\n",
       "    </tr>\n",
       "    <tr>\n",
       "      <th>2</th>\n",
       "      <td>38</td>\n",
       "      <td>Private</td>\n",
       "      <td>215646</td>\n",
       "      <td>HS-grad</td>\n",
       "      <td>9</td>\n",
       "      <td>Divorced</td>\n",
       "      <td>Handlers-cleaners</td>\n",
       "      <td>Not-in-family</td>\n",
       "      <td>White</td>\n",
       "      <td>Male</td>\n",
       "      <td>0</td>\n",
       "      <td>0</td>\n",
       "      <td>40</td>\n",
       "      <td>United-States</td>\n",
       "      <td>&lt;=50K</td>\n",
       "    </tr>\n",
       "    <tr>\n",
       "      <th>3</th>\n",
       "      <td>53</td>\n",
       "      <td>Private</td>\n",
       "      <td>234721</td>\n",
       "      <td>11th</td>\n",
       "      <td>7</td>\n",
       "      <td>Married-civ-spouse</td>\n",
       "      <td>Handlers-cleaners</td>\n",
       "      <td>Husband</td>\n",
       "      <td>Black</td>\n",
       "      <td>Male</td>\n",
       "      <td>0</td>\n",
       "      <td>0</td>\n",
       "      <td>40</td>\n",
       "      <td>United-States</td>\n",
       "      <td>&lt;=50K</td>\n",
       "    </tr>\n",
       "    <tr>\n",
       "      <th>4</th>\n",
       "      <td>28</td>\n",
       "      <td>Private</td>\n",
       "      <td>338409</td>\n",
       "      <td>Bachelors</td>\n",
       "      <td>13</td>\n",
       "      <td>Married-civ-spouse</td>\n",
       "      <td>Prof-specialty</td>\n",
       "      <td>Wife</td>\n",
       "      <td>Black</td>\n",
       "      <td>Female</td>\n",
       "      <td>0</td>\n",
       "      <td>0</td>\n",
       "      <td>40</td>\n",
       "      <td>Cuba</td>\n",
       "      <td>&lt;=50K</td>\n",
       "    </tr>\n",
       "  </tbody>\n",
       "</table>\n",
       "</div>"
      ],
      "text/plain": [
       "   Idade Classe Trabalhadora  Peso Amostra Final    Educacao  Num Educacao  \\\n",
       "0     39           State-gov               77516   Bachelors            13   \n",
       "1     50    Self-emp-not-inc               83311   Bachelors            13   \n",
       "2     38             Private              215646     HS-grad             9   \n",
       "3     53             Private              234721        11th             7   \n",
       "4     28             Private              338409   Bachelors            13   \n",
       "\n",
       "          Estado Civil            Ocupacao  Relacionamento    Raca     Sexo  \\\n",
       "0        Never-married        Adm-clerical   Not-in-family   White     Male   \n",
       "1   Married-civ-spouse     Exec-managerial         Husband   White     Male   \n",
       "2             Divorced   Handlers-cleaners   Not-in-family   White     Male   \n",
       "3   Married-civ-spouse   Handlers-cleaners         Husband   Black     Male   \n",
       "4   Married-civ-spouse      Prof-specialty            Wife   Black   Female   \n",
       "\n",
       "   Ganho de Capital  Perda de Capital  Horas por Semana     Pais Nativo  \\\n",
       "0              2174                 0                40   United-States   \n",
       "1                 0                 0                13   United-States   \n",
       "2                 0                 0                40   United-States   \n",
       "3                 0                 0                40   United-States   \n",
       "4                 0                 0                40            Cuba   \n",
       "\n",
       "    Renda  \n",
       "0   <=50K  \n",
       "1   <=50K  \n",
       "2   <=50K  \n",
       "3   <=50K  \n",
       "4   <=50K  "
      ]
     },
     "execution_count": 142,
     "metadata": {},
     "output_type": "execute_result"
    }
   ],
   "source": [
    "#Printar a base de dados:\n",
    "data.head()"
   ]
  },
  {
   "cell_type": "markdown",
   "id": "dfd03ea8",
   "metadata": {
    "hidden": true
   },
   "source": [
    "## Atributos"
   ]
  },
  {
   "cell_type": "code",
   "execution_count": 62,
   "id": "7ca335df",
   "metadata": {
    "collapsed": true,
    "hidden": true
   },
   "outputs": [
    {
     "name": "stdout",
     "output_type": "stream",
     "text": [
      "A base de dados possui 32561 exemplos e 15 atributos\n"
     ]
    }
   ],
   "source": [
    "print(f\"A base de dados possui {data.shape[0]} exemplos e {data.shape[1]} atributos\")"
   ]
  },
  {
   "cell_type": "code",
   "execution_count": 281,
   "id": "4ca1d7bb",
   "metadata": {
    "hidden": true
   },
   "outputs": [
    {
     "data": {
      "text/html": [
       "<div>\n",
       "<style scoped>\n",
       "    .dataframe tbody tr th:only-of-type {\n",
       "        vertical-align: middle;\n",
       "    }\n",
       "\n",
       "    .dataframe tbody tr th {\n",
       "        vertical-align: top;\n",
       "    }\n",
       "\n",
       "    .dataframe thead th {\n",
       "        text-align: right;\n",
       "    }\n",
       "</style>\n",
       "<table border=\"1\" class=\"dataframe\">\n",
       "  <thead>\n",
       "    <tr style=\"text-align: right;\">\n",
       "      <th></th>\n",
       "      <th>Idade</th>\n",
       "      <th>Classe Trabalhadora</th>\n",
       "      <th>Peso Amostra Final</th>\n",
       "      <th>Educacao</th>\n",
       "      <th>Num Educacao</th>\n",
       "      <th>Estado Civil</th>\n",
       "      <th>Ocupacao</th>\n",
       "      <th>Relacionamento</th>\n",
       "      <th>Raca</th>\n",
       "      <th>Sexo</th>\n",
       "      <th>Ganho de Capital</th>\n",
       "      <th>Perda de Capital</th>\n",
       "      <th>Horas por Semana</th>\n",
       "      <th>Pais Nativo</th>\n",
       "      <th>Renda</th>\n",
       "    </tr>\n",
       "  </thead>\n",
       "  <tbody>\n",
       "  </tbody>\n",
       "</table>\n",
       "</div>"
      ],
      "text/plain": [
       "Empty DataFrame\n",
       "Columns: [Idade, Classe Trabalhadora, Peso Amostra Final, Educacao, Num Educacao, Estado Civil, Ocupacao, Relacionamento, Raca, Sexo, Ganho de Capital, Perda de Capital, Horas por Semana, Pais Nativo, Renda]\n",
       "Index: []"
      ]
     },
     "execution_count": 281,
     "metadata": {},
     "output_type": "execute_result"
    }
   ],
   "source": [
    "#Atributos:\n",
    "data.head(0)"
   ]
  },
  {
   "cell_type": "markdown",
   "id": "961311e0",
   "metadata": {
    "hidden": true
   },
   "source": [
    "## Atributo alvo (saída)"
   ]
  },
  {
   "cell_type": "markdown",
   "id": "fb20ed42",
   "metadata": {
    "hidden": true
   },
   "source": [
    "O atributo alvo é justamente o atributo 'Renda', responsável por armazenar se a renda é superior ou inferior a 50K"
   ]
  },
  {
   "cell_type": "code",
   "execution_count": 145,
   "id": "8e46210f",
   "metadata": {
    "collapsed": true,
    "hidden": true
   },
   "outputs": [
    {
     "data": {
      "text/html": [
       "<div>\n",
       "<style scoped>\n",
       "    .dataframe tbody tr th:only-of-type {\n",
       "        vertical-align: middle;\n",
       "    }\n",
       "\n",
       "    .dataframe tbody tr th {\n",
       "        vertical-align: top;\n",
       "    }\n",
       "\n",
       "    .dataframe thead th {\n",
       "        text-align: right;\n",
       "    }\n",
       "</style>\n",
       "<table border=\"1\" class=\"dataframe\">\n",
       "  <thead>\n",
       "    <tr style=\"text-align: right;\">\n",
       "      <th></th>\n",
       "      <th>Renda</th>\n",
       "    </tr>\n",
       "  </thead>\n",
       "  <tbody>\n",
       "    <tr>\n",
       "      <th>0</th>\n",
       "      <td>&lt;=50K</td>\n",
       "    </tr>\n",
       "    <tr>\n",
       "      <th>1</th>\n",
       "      <td>&lt;=50K</td>\n",
       "    </tr>\n",
       "    <tr>\n",
       "      <th>2</th>\n",
       "      <td>&lt;=50K</td>\n",
       "    </tr>\n",
       "    <tr>\n",
       "      <th>3</th>\n",
       "      <td>&lt;=50K</td>\n",
       "    </tr>\n",
       "    <tr>\n",
       "      <th>4</th>\n",
       "      <td>&lt;=50K</td>\n",
       "    </tr>\n",
       "    <tr>\n",
       "      <th>5</th>\n",
       "      <td>&lt;=50K</td>\n",
       "    </tr>\n",
       "    <tr>\n",
       "      <th>6</th>\n",
       "      <td>&lt;=50K</td>\n",
       "    </tr>\n",
       "    <tr>\n",
       "      <th>7</th>\n",
       "      <td>&gt;50K</td>\n",
       "    </tr>\n",
       "    <tr>\n",
       "      <th>8</th>\n",
       "      <td>&gt;50K</td>\n",
       "    </tr>\n",
       "    <tr>\n",
       "      <th>9</th>\n",
       "      <td>&gt;50K</td>\n",
       "    </tr>\n",
       "  </tbody>\n",
       "</table>\n",
       "</div>"
      ],
      "text/plain": [
       "    Renda\n",
       "0   <=50K\n",
       "1   <=50K\n",
       "2   <=50K\n",
       "3   <=50K\n",
       "4   <=50K\n",
       "5   <=50K\n",
       "6   <=50K\n",
       "7    >50K\n",
       "8    >50K\n",
       "9    >50K"
      ]
     },
     "metadata": {},
     "output_type": "display_data"
    }
   ],
   "source": [
    "#Exemplos de valores do atributo 'Renda'\n",
    "display(pd.DataFrame(data.head(10)['Renda'], columns=['Renda']))"
   ]
  },
  {
   "cell_type": "markdown",
   "id": "81eb76ea",
   "metadata": {
    "hidden": true
   },
   "source": [
    "## Identificação dos tipos de dados"
   ]
  },
  {
   "cell_type": "markdown",
   "id": "dd7a3527",
   "metadata": {
    "hidden": true
   },
   "source": [
    "Identificação dos tipos dos dados de entrada podem se dividir em 2 categorias:\n",
    "* Categóricos / Qualitativos\n",
    "* Numéritoc / Quantitativos"
   ]
  },
  {
   "cell_type": "code",
   "execution_count": 147,
   "id": "4c27ec4a",
   "metadata": {
    "collapsed": true,
    "hidden": true
   },
   "outputs": [
    {
     "data": {
      "text/html": [
       "<div>\n",
       "<style scoped>\n",
       "    .dataframe tbody tr th:only-of-type {\n",
       "        vertical-align: middle;\n",
       "    }\n",
       "\n",
       "    .dataframe tbody tr th {\n",
       "        vertical-align: top;\n",
       "    }\n",
       "\n",
       "    .dataframe thead th {\n",
       "        text-align: right;\n",
       "    }\n",
       "</style>\n",
       "<table border=\"1\" class=\"dataframe\">\n",
       "  <thead>\n",
       "    <tr style=\"text-align: right;\">\n",
       "      <th></th>\n",
       "      <th>Atributo</th>\n",
       "      <th>Classificação</th>\n",
       "    </tr>\n",
       "  </thead>\n",
       "  <tbody>\n",
       "    <tr>\n",
       "      <th>0</th>\n",
       "      <td>Idade</td>\n",
       "      <td>Numérico</td>\n",
       "    </tr>\n",
       "    <tr>\n",
       "      <th>1</th>\n",
       "      <td>Classe Trabalhadora</td>\n",
       "      <td>Categórico</td>\n",
       "    </tr>\n",
       "    <tr>\n",
       "      <th>2</th>\n",
       "      <td>Peso Amostra Final</td>\n",
       "      <td>Numérico</td>\n",
       "    </tr>\n",
       "    <tr>\n",
       "      <th>3</th>\n",
       "      <td>Educacao</td>\n",
       "      <td>Categórico</td>\n",
       "    </tr>\n",
       "    <tr>\n",
       "      <th>4</th>\n",
       "      <td>Num Educacao</td>\n",
       "      <td>Numérico</td>\n",
       "    </tr>\n",
       "    <tr>\n",
       "      <th>5</th>\n",
       "      <td>Estado Civil</td>\n",
       "      <td>Categórico</td>\n",
       "    </tr>\n",
       "    <tr>\n",
       "      <th>6</th>\n",
       "      <td>Ocupacao</td>\n",
       "      <td>Categórico</td>\n",
       "    </tr>\n",
       "    <tr>\n",
       "      <th>7</th>\n",
       "      <td>Relacionamento</td>\n",
       "      <td>Categórico</td>\n",
       "    </tr>\n",
       "    <tr>\n",
       "      <th>8</th>\n",
       "      <td>Raca</td>\n",
       "      <td>Categórico</td>\n",
       "    </tr>\n",
       "    <tr>\n",
       "      <th>9</th>\n",
       "      <td>Sexo</td>\n",
       "      <td>Categórico</td>\n",
       "    </tr>\n",
       "    <tr>\n",
       "      <th>10</th>\n",
       "      <td>Ganho de Capital</td>\n",
       "      <td>Numérico</td>\n",
       "    </tr>\n",
       "    <tr>\n",
       "      <th>11</th>\n",
       "      <td>Perda de Capital</td>\n",
       "      <td>Numérico</td>\n",
       "    </tr>\n",
       "    <tr>\n",
       "      <th>12</th>\n",
       "      <td>Horas por Semana</td>\n",
       "      <td>Numérico</td>\n",
       "    </tr>\n",
       "    <tr>\n",
       "      <th>13</th>\n",
       "      <td>Pais Nativo</td>\n",
       "      <td>Categórico</td>\n",
       "    </tr>\n",
       "    <tr>\n",
       "      <th>14</th>\n",
       "      <td>Renda</td>\n",
       "      <td>Categórico</td>\n",
       "    </tr>\n",
       "  </tbody>\n",
       "</table>\n",
       "</div>"
      ],
      "text/plain": [
       "               Atributo Classificação\n",
       "0                 Idade      Numérico\n",
       "1   Classe Trabalhadora    Categórico\n",
       "2    Peso Amostra Final      Numérico\n",
       "3              Educacao    Categórico\n",
       "4          Num Educacao      Numérico\n",
       "5          Estado Civil    Categórico\n",
       "6              Ocupacao    Categórico\n",
       "7        Relacionamento    Categórico\n",
       "8                  Raca    Categórico\n",
       "9                  Sexo    Categórico\n",
       "10     Ganho de Capital      Numérico\n",
       "11     Perda de Capital      Numérico\n",
       "12     Horas por Semana      Numérico\n",
       "13          Pais Nativo    Categórico\n",
       "14                Renda    Categórico"
      ]
     },
     "metadata": {},
     "output_type": "display_data"
    }
   ],
   "source": [
    "#Identificar se os dados são 'Numéricos' ou 'Categóricos'\n",
    "tabela = [[coluna, 'Numérico' if str(data[coluna].dtype).startswith('int') or str(data[coluna].dtype).startswith('float') else 'Categórico'] for coluna in data.columns]\n",
    "display(pd.DataFrame(tabela, columns=['Atributo', 'Classificação']))"
   ]
  },
  {
   "cell_type": "markdown",
   "id": "8b408857",
   "metadata": {
    "heading_collapsed": true
   },
   "source": [
    "# Identificação da escala de dados"
   ]
  },
  {
   "cell_type": "markdown",
   "id": "71ae41ce",
   "metadata": {
    "hidden": true
   },
   "source": [
    "Identificação da escala dos dados de entrada podem se dividir em 4 categorias:\n",
    "* Nominal\n",
    "* Ordinal\n",
    "* Intervalar\n",
    "* Racional"
   ]
  },
  {
   "cell_type": "code",
   "execution_count": 215,
   "id": "6fca9932",
   "metadata": {
    "collapsed": true,
    "hidden": true
   },
   "outputs": [
    {
     "data": {
      "text/html": [
       "<div>\n",
       "<style scoped>\n",
       "    .dataframe tbody tr th:only-of-type {\n",
       "        vertical-align: middle;\n",
       "    }\n",
       "\n",
       "    .dataframe tbody tr th {\n",
       "        vertical-align: top;\n",
       "    }\n",
       "\n",
       "    .dataframe thead th {\n",
       "        text-align: right;\n",
       "    }\n",
       "</style>\n",
       "<table border=\"1\" class=\"dataframe\">\n",
       "  <thead>\n",
       "    <tr style=\"text-align: right;\">\n",
       "      <th></th>\n",
       "      <th>Atributo</th>\n",
       "      <th>Escala</th>\n",
       "    </tr>\n",
       "  </thead>\n",
       "  <tbody>\n",
       "    <tr>\n",
       "      <th>0</th>\n",
       "      <td>Idade</td>\n",
       "      <td>Intervalar</td>\n",
       "    </tr>\n",
       "    <tr>\n",
       "      <th>1</th>\n",
       "      <td>Classe Trabalhadora</td>\n",
       "      <td>Nominal</td>\n",
       "    </tr>\n",
       "    <tr>\n",
       "      <th>2</th>\n",
       "      <td>Peso Amostra Final</td>\n",
       "      <td>Racional</td>\n",
       "    </tr>\n",
       "    <tr>\n",
       "      <th>3</th>\n",
       "      <td>Educacao</td>\n",
       "      <td>Nominal</td>\n",
       "    </tr>\n",
       "    <tr>\n",
       "      <th>4</th>\n",
       "      <td>Num Educacao</td>\n",
       "      <td>Ordinal</td>\n",
       "    </tr>\n",
       "    <tr>\n",
       "      <th>5</th>\n",
       "      <td>Estado Civil</td>\n",
       "      <td>Nominal</td>\n",
       "    </tr>\n",
       "    <tr>\n",
       "      <th>6</th>\n",
       "      <td>Ocupacao</td>\n",
       "      <td>Nominal</td>\n",
       "    </tr>\n",
       "    <tr>\n",
       "      <th>7</th>\n",
       "      <td>Relacionamento</td>\n",
       "      <td>Nominal</td>\n",
       "    </tr>\n",
       "    <tr>\n",
       "      <th>8</th>\n",
       "      <td>Raca</td>\n",
       "      <td>Nominal</td>\n",
       "    </tr>\n",
       "    <tr>\n",
       "      <th>9</th>\n",
       "      <td>Sexo</td>\n",
       "      <td>Nominal</td>\n",
       "    </tr>\n",
       "    <tr>\n",
       "      <th>10</th>\n",
       "      <td>Ganho de Capital</td>\n",
       "      <td>Racional</td>\n",
       "    </tr>\n",
       "    <tr>\n",
       "      <th>11</th>\n",
       "      <td>Perda de Capital</td>\n",
       "      <td>Racional</td>\n",
       "    </tr>\n",
       "    <tr>\n",
       "      <th>12</th>\n",
       "      <td>Horas por Semana</td>\n",
       "      <td>Intervalar</td>\n",
       "    </tr>\n",
       "    <tr>\n",
       "      <th>13</th>\n",
       "      <td>Pais Nativo</td>\n",
       "      <td>Nominal</td>\n",
       "    </tr>\n",
       "    <tr>\n",
       "      <th>14</th>\n",
       "      <td>Renda</td>\n",
       "      <td>Racional</td>\n",
       "    </tr>\n",
       "  </tbody>\n",
       "</table>\n",
       "</div>"
      ],
      "text/plain": [
       "               Atributo      Escala\n",
       "0                 Idade  Intervalar\n",
       "1   Classe Trabalhadora     Nominal\n",
       "2    Peso Amostra Final    Racional\n",
       "3              Educacao     Nominal\n",
       "4          Num Educacao     Ordinal\n",
       "5          Estado Civil     Nominal\n",
       "6              Ocupacao     Nominal\n",
       "7        Relacionamento     Nominal\n",
       "8                  Raca     Nominal\n",
       "9                  Sexo     Nominal\n",
       "10     Ganho de Capital    Racional\n",
       "11     Perda de Capital    Racional\n",
       "12     Horas por Semana  Intervalar\n",
       "13          Pais Nativo     Nominal\n",
       "14                Renda    Racional"
      ]
     },
     "metadata": {},
     "output_type": "display_data"
    }
   ],
   "source": [
    "#Identificar se os dados são 'Nominais', 'Ordinais', 'Intervalares' ou 'Racionais'\n",
    "classificacao = ['Intervalar', 'Nominal', 'Racional', 'Nominal', 'Ordinal', 'Nominal', 'Nominal', 'Nominal', 'Nominal', 'Nominal', 'Racional', 'Racional', 'Intervalar', 'Nominal', 'Racional']\n",
    "atributos = ['Idade', 'Classe Trabalhadora', 'Peso Amostra Final', 'Educacao', 'Num Educacao', 'Estado Civil', 'Ocupacao', 'Relacionamento', 'Raca', 'Sexo', 'Ganho de Capital', 'Perda de Capital', 'Horas por Semana', 'Pais Nativo', 'Renda']\n",
    "df_tabela = pd.DataFrame({'Atributo': atributos, 'Escala': classificacao})\n",
    "display(df_tabela)"
   ]
  },
  {
   "cell_type": "markdown",
   "id": "d3b575b4",
   "metadata": {
    "heading_collapsed": true
   },
   "source": [
    "# Exploração dos dados"
   ]
  },
  {
   "cell_type": "markdown",
   "id": "9060a0b8",
   "metadata": {
    "hidden": true
   },
   "source": [
    "O que é? para que serve?\n"
   ]
  },
  {
   "cell_type": "markdown",
   "id": "d193ee99",
   "metadata": {
    "hidden": true
   },
   "source": [
    "## Exploração através de medidas de localidade"
   ]
  },
  {
   "cell_type": "raw",
   "id": "e7f5574f",
   "metadata": {
    "hidden": true
   },
   "source": [
    "Definindo as operações:"
   ]
  },
  {
   "cell_type": "code",
   "execution_count": 256,
   "id": "82c7530e",
   "metadata": {
    "hidden": true
   },
   "outputs": [],
   "source": [
    "operacoes = {\n",
    "    'Moda': lambda coluna: coluna.mode()[0],\n",
    "    'Média': lambda coluna: coluna.mean(),\n",
    "    'Mediana': lambda coluna: coluna.median(),\n",
    "    '1º Q': lambda coluna: coluna.quantile(0.25),\n",
    "    '2º Q': lambda coluna: coluna.quantile(0.50),\n",
    "    '3º Q': lambda coluna: coluna.quantile(0.75),\n",
    "    'Desvio Padrão': lambda coluna: coluna.std()\n",
    "}"
   ]
  },
  {
   "cell_type": "markdown",
   "id": "99abdcab",
   "metadata": {
    "hidden": true
   },
   "source": [
    "* Medidas de localidade para dados numéricos e categóricos"
   ]
  },
  {
   "cell_type": "code",
   "execution_count": 257,
   "id": "fa8e6071",
   "metadata": {
    "collapsed": true,
    "hidden": true
   },
   "outputs": [
    {
     "data": {
      "text/html": [
       "<div>\n",
       "<style scoped>\n",
       "    .dataframe tbody tr th:only-of-type {\n",
       "        vertical-align: middle;\n",
       "    }\n",
       "\n",
       "    .dataframe tbody tr th {\n",
       "        vertical-align: top;\n",
       "    }\n",
       "\n",
       "    .dataframe thead th {\n",
       "        text-align: right;\n",
       "    }\n",
       "</style>\n",
       "<table border=\"1\" class=\"dataframe\">\n",
       "  <thead>\n",
       "    <tr style=\"text-align: right;\">\n",
       "      <th></th>\n",
       "      <th>Idade</th>\n",
       "      <th>Classe Trabalhadora</th>\n",
       "      <th>Peso Amostra Final</th>\n",
       "      <th>Educacao</th>\n",
       "      <th>Num Educacao</th>\n",
       "      <th>Estado Civil</th>\n",
       "      <th>Ocupacao</th>\n",
       "      <th>Relacionamento</th>\n",
       "      <th>Raca</th>\n",
       "      <th>Sexo</th>\n",
       "      <th>Ganho de Capital</th>\n",
       "      <th>Perda de Capital</th>\n",
       "      <th>Horas por Semana</th>\n",
       "      <th>Pais Nativo</th>\n",
       "      <th>Renda</th>\n",
       "    </tr>\n",
       "  </thead>\n",
       "  <tbody>\n",
       "    <tr>\n",
       "      <th>Moda</th>\n",
       "      <td>36.000000</td>\n",
       "      <td>Private</td>\n",
       "      <td>123011.000000</td>\n",
       "      <td>HS-grad</td>\n",
       "      <td>9.000000</td>\n",
       "      <td>Married-civ-spouse</td>\n",
       "      <td>Prof-specialty</td>\n",
       "      <td>Husband</td>\n",
       "      <td>White</td>\n",
       "      <td>Male</td>\n",
       "      <td>0.000000</td>\n",
       "      <td>0.000000</td>\n",
       "      <td>40.000000</td>\n",
       "      <td>United-States</td>\n",
       "      <td>&lt;=50K</td>\n",
       "    </tr>\n",
       "    <tr>\n",
       "      <th>Média</th>\n",
       "      <td>38.581647</td>\n",
       "      <td>NaN</td>\n",
       "      <td>189778.366512</td>\n",
       "      <td>NaN</td>\n",
       "      <td>10.080679</td>\n",
       "      <td>NaN</td>\n",
       "      <td>NaN</td>\n",
       "      <td>NaN</td>\n",
       "      <td>NaN</td>\n",
       "      <td>NaN</td>\n",
       "      <td>1077.648844</td>\n",
       "      <td>87.303830</td>\n",
       "      <td>40.437456</td>\n",
       "      <td>NaN</td>\n",
       "      <td>NaN</td>\n",
       "    </tr>\n",
       "    <tr>\n",
       "      <th>Mediana</th>\n",
       "      <td>37.000000</td>\n",
       "      <td>NaN</td>\n",
       "      <td>178356.000000</td>\n",
       "      <td>NaN</td>\n",
       "      <td>10.000000</td>\n",
       "      <td>NaN</td>\n",
       "      <td>NaN</td>\n",
       "      <td>NaN</td>\n",
       "      <td>NaN</td>\n",
       "      <td>NaN</td>\n",
       "      <td>0.000000</td>\n",
       "      <td>0.000000</td>\n",
       "      <td>40.000000</td>\n",
       "      <td>NaN</td>\n",
       "      <td>NaN</td>\n",
       "    </tr>\n",
       "    <tr>\n",
       "      <th>1º Q</th>\n",
       "      <td>28.000000</td>\n",
       "      <td>NaN</td>\n",
       "      <td>117827.000000</td>\n",
       "      <td>NaN</td>\n",
       "      <td>9.000000</td>\n",
       "      <td>NaN</td>\n",
       "      <td>NaN</td>\n",
       "      <td>NaN</td>\n",
       "      <td>NaN</td>\n",
       "      <td>NaN</td>\n",
       "      <td>0.000000</td>\n",
       "      <td>0.000000</td>\n",
       "      <td>40.000000</td>\n",
       "      <td>NaN</td>\n",
       "      <td>NaN</td>\n",
       "    </tr>\n",
       "    <tr>\n",
       "      <th>2º Q</th>\n",
       "      <td>37.000000</td>\n",
       "      <td>NaN</td>\n",
       "      <td>178356.000000</td>\n",
       "      <td>NaN</td>\n",
       "      <td>10.000000</td>\n",
       "      <td>NaN</td>\n",
       "      <td>NaN</td>\n",
       "      <td>NaN</td>\n",
       "      <td>NaN</td>\n",
       "      <td>NaN</td>\n",
       "      <td>0.000000</td>\n",
       "      <td>0.000000</td>\n",
       "      <td>40.000000</td>\n",
       "      <td>NaN</td>\n",
       "      <td>NaN</td>\n",
       "    </tr>\n",
       "    <tr>\n",
       "      <th>3º Q</th>\n",
       "      <td>48.000000</td>\n",
       "      <td>NaN</td>\n",
       "      <td>237051.000000</td>\n",
       "      <td>NaN</td>\n",
       "      <td>12.000000</td>\n",
       "      <td>NaN</td>\n",
       "      <td>NaN</td>\n",
       "      <td>NaN</td>\n",
       "      <td>NaN</td>\n",
       "      <td>NaN</td>\n",
       "      <td>0.000000</td>\n",
       "      <td>0.000000</td>\n",
       "      <td>45.000000</td>\n",
       "      <td>NaN</td>\n",
       "      <td>NaN</td>\n",
       "    </tr>\n",
       "    <tr>\n",
       "      <th>Desvio Padrão</th>\n",
       "      <td>13.640433</td>\n",
       "      <td>NaN</td>\n",
       "      <td>105549.977697</td>\n",
       "      <td>NaN</td>\n",
       "      <td>2.572720</td>\n",
       "      <td>NaN</td>\n",
       "      <td>NaN</td>\n",
       "      <td>NaN</td>\n",
       "      <td>NaN</td>\n",
       "      <td>NaN</td>\n",
       "      <td>7385.292085</td>\n",
       "      <td>402.960219</td>\n",
       "      <td>12.347429</td>\n",
       "      <td>NaN</td>\n",
       "      <td>NaN</td>\n",
       "    </tr>\n",
       "  </tbody>\n",
       "</table>\n",
       "</div>"
      ],
      "text/plain": [
       "                   Idade Classe Trabalhadora  Peso Amostra Final  Educacao  \\\n",
       "Moda           36.000000             Private       123011.000000   HS-grad   \n",
       "Média          38.581647                 NaN       189778.366512       NaN   \n",
       "Mediana        37.000000                 NaN       178356.000000       NaN   \n",
       "1º Q           28.000000                 NaN       117827.000000       NaN   \n",
       "2º Q           37.000000                 NaN       178356.000000       NaN   \n",
       "3º Q           48.000000                 NaN       237051.000000       NaN   \n",
       "Desvio Padrão  13.640433                 NaN       105549.977697       NaN   \n",
       "\n",
       "               Num Educacao         Estado Civil         Ocupacao  \\\n",
       "Moda               9.000000   Married-civ-spouse   Prof-specialty   \n",
       "Média             10.080679                  NaN              NaN   \n",
       "Mediana           10.000000                  NaN              NaN   \n",
       "1º Q               9.000000                  NaN              NaN   \n",
       "2º Q              10.000000                  NaN              NaN   \n",
       "3º Q              12.000000                  NaN              NaN   \n",
       "Desvio Padrão      2.572720                  NaN              NaN   \n",
       "\n",
       "              Relacionamento    Raca   Sexo  Ganho de Capital  \\\n",
       "Moda                 Husband   White   Male          0.000000   \n",
       "Média                    NaN     NaN    NaN       1077.648844   \n",
       "Mediana                  NaN     NaN    NaN          0.000000   \n",
       "1º Q                     NaN     NaN    NaN          0.000000   \n",
       "2º Q                     NaN     NaN    NaN          0.000000   \n",
       "3º Q                     NaN     NaN    NaN          0.000000   \n",
       "Desvio Padrão            NaN     NaN    NaN       7385.292085   \n",
       "\n",
       "               Perda de Capital  Horas por Semana     Pais Nativo   Renda  \n",
       "Moda                   0.000000         40.000000   United-States   <=50K  \n",
       "Média                 87.303830         40.437456             NaN     NaN  \n",
       "Mediana                0.000000         40.000000             NaN     NaN  \n",
       "1º Q                   0.000000         40.000000             NaN     NaN  \n",
       "2º Q                   0.000000         40.000000             NaN     NaN  \n",
       "3º Q                   0.000000         45.000000             NaN     NaN  \n",
       "Desvio Padrão        402.960219         12.347429             NaN     NaN  "
      ]
     },
     "metadata": {},
     "output_type": "display_data"
    }
   ],
   "source": [
    "#Calcular medidas como 'Moda', Média', 'Mediana', '1º, 2º e 3º Quartis' e 'Desvio Padrão' de TODOS os atributos (numéricos & categóricos)\n",
    "medidas = {}\n",
    "for coluna in data.columns:\n",
    "    if pd.api.types.is_numeric_dtype(data[coluna]):\n",
    "        medidas[coluna] = {operacao: operacoes[operacao](data[coluna]) for operacao in operacoes}\n",
    "    else:\n",
    "        medidas[coluna] = {'Moda': data[coluna].mode()[0]}\n",
    "df_medidas = pd.DataFrame(medidas)\n",
    "display(df_medidas)"
   ]
  },
  {
   "cell_type": "markdown",
   "id": "c228fda3",
   "metadata": {
    "hidden": true
   },
   "source": [
    "* Medidas de localidade somente para dados numéricos"
   ]
  },
  {
   "cell_type": "code",
   "execution_count": 263,
   "id": "3481388e",
   "metadata": {
    "collapsed": true,
    "hidden": true
   },
   "outputs": [
    {
     "data": {
      "text/html": [
       "<div>\n",
       "<style scoped>\n",
       "    .dataframe tbody tr th:only-of-type {\n",
       "        vertical-align: middle;\n",
       "    }\n",
       "\n",
       "    .dataframe tbody tr th {\n",
       "        vertical-align: top;\n",
       "    }\n",
       "\n",
       "    .dataframe thead th {\n",
       "        text-align: right;\n",
       "    }\n",
       "</style>\n",
       "<table border=\"1\" class=\"dataframe\">\n",
       "  <thead>\n",
       "    <tr style=\"text-align: right;\">\n",
       "      <th></th>\n",
       "      <th>Idade</th>\n",
       "      <th>Peso Amostra Final</th>\n",
       "      <th>Num Educacao</th>\n",
       "      <th>Ganho de Capital</th>\n",
       "      <th>Perda de Capital</th>\n",
       "      <th>Horas por Semana</th>\n",
       "    </tr>\n",
       "  </thead>\n",
       "  <tbody>\n",
       "    <tr>\n",
       "      <th>Moda</th>\n",
       "      <td>36.000000</td>\n",
       "      <td>123011.000000</td>\n",
       "      <td>9.000000</td>\n",
       "      <td>0.000000</td>\n",
       "      <td>0.000000</td>\n",
       "      <td>40.000000</td>\n",
       "    </tr>\n",
       "    <tr>\n",
       "      <th>Média</th>\n",
       "      <td>38.581647</td>\n",
       "      <td>189778.366512</td>\n",
       "      <td>10.080679</td>\n",
       "      <td>1077.648844</td>\n",
       "      <td>87.303830</td>\n",
       "      <td>40.437456</td>\n",
       "    </tr>\n",
       "    <tr>\n",
       "      <th>Mediana</th>\n",
       "      <td>37.000000</td>\n",
       "      <td>178356.000000</td>\n",
       "      <td>10.000000</td>\n",
       "      <td>0.000000</td>\n",
       "      <td>0.000000</td>\n",
       "      <td>40.000000</td>\n",
       "    </tr>\n",
       "    <tr>\n",
       "      <th>Desvio Padrão</th>\n",
       "      <td>13.640433</td>\n",
       "      <td>105549.977697</td>\n",
       "      <td>2.572720</td>\n",
       "      <td>7385.292085</td>\n",
       "      <td>402.960219</td>\n",
       "      <td>12.347429</td>\n",
       "    </tr>\n",
       "  </tbody>\n",
       "</table>\n",
       "</div>"
      ],
      "text/plain": [
       "                   Idade  Peso Amostra Final  Num Educacao  Ganho de Capital  \\\n",
       "Moda           36.000000       123011.000000      9.000000          0.000000   \n",
       "Média          38.581647       189778.366512     10.080679       1077.648844   \n",
       "Mediana        37.000000       178356.000000     10.000000          0.000000   \n",
       "Desvio Padrão  13.640433       105549.977697      2.572720       7385.292085   \n",
       "\n",
       "               Perda de Capital  Horas por Semana  \n",
       "Moda                   0.000000         40.000000  \n",
       "Média                 87.303830         40.437456  \n",
       "Mediana                0.000000         40.000000  \n",
       "Desvio Padrão        402.960219         12.347429  "
      ]
     },
     "metadata": {},
     "output_type": "display_data"
    }
   ],
   "source": [
    "#Calcular apenas dos atributos numéricos ('Moda','Média', 'Mediana' e 'Desvio Padrão')\n",
    "medidas = {}\n",
    "for coluna in data.columns:\n",
    "    if pd.api.types.is_numeric_dtype(data[coluna]):\n",
    "        medidas[coluna] ={'Moda': data[coluna].mode()[0],'Média': data[coluna].mean(),'Mediana': data[coluna].median(),'Desvio Padrão': data[coluna].std()}\n",
    "df_medidas = pd.DataFrame(medidas)\n",
    "display(df_medidas)"
   ]
  },
  {
   "cell_type": "code",
   "execution_count": 262,
   "id": "04a1ffef",
   "metadata": {
    "collapsed": true,
    "hidden": true
   },
   "outputs": [
    {
     "data": {
      "text/html": [
       "<div>\n",
       "<style scoped>\n",
       "    .dataframe tbody tr th:only-of-type {\n",
       "        vertical-align: middle;\n",
       "    }\n",
       "\n",
       "    .dataframe tbody tr th {\n",
       "        vertical-align: top;\n",
       "    }\n",
       "\n",
       "    .dataframe thead th {\n",
       "        text-align: right;\n",
       "    }\n",
       "</style>\n",
       "<table border=\"1\" class=\"dataframe\">\n",
       "  <thead>\n",
       "    <tr style=\"text-align: right;\">\n",
       "      <th></th>\n",
       "      <th>Idade</th>\n",
       "      <th>Peso Amostra Final</th>\n",
       "      <th>Num Educacao</th>\n",
       "      <th>Ganho de Capital</th>\n",
       "      <th>Perda de Capital</th>\n",
       "      <th>Horas por Semana</th>\n",
       "    </tr>\n",
       "  </thead>\n",
       "  <tbody>\n",
       "    <tr>\n",
       "      <th>1º Quartil</th>\n",
       "      <td>28.0</td>\n",
       "      <td>117827.0</td>\n",
       "      <td>9.0</td>\n",
       "      <td>0.0</td>\n",
       "      <td>0.0</td>\n",
       "      <td>40.0</td>\n",
       "    </tr>\n",
       "    <tr>\n",
       "      <th>2º Quartil</th>\n",
       "      <td>37.0</td>\n",
       "      <td>178356.0</td>\n",
       "      <td>10.0</td>\n",
       "      <td>0.0</td>\n",
       "      <td>0.0</td>\n",
       "      <td>40.0</td>\n",
       "    </tr>\n",
       "    <tr>\n",
       "      <th>3º Quartil</th>\n",
       "      <td>48.0</td>\n",
       "      <td>237051.0</td>\n",
       "      <td>12.0</td>\n",
       "      <td>0.0</td>\n",
       "      <td>0.0</td>\n",
       "      <td>45.0</td>\n",
       "    </tr>\n",
       "  </tbody>\n",
       "</table>\n",
       "</div>"
      ],
      "text/plain": [
       "            Idade  Peso Amostra Final  Num Educacao  Ganho de Capital  \\\n",
       "1º Quartil   28.0            117827.0           9.0               0.0   \n",
       "2º Quartil   37.0            178356.0          10.0               0.0   \n",
       "3º Quartil   48.0            237051.0          12.0               0.0   \n",
       "\n",
       "            Perda de Capital  Horas por Semana  \n",
       "1º Quartil               0.0              40.0  \n",
       "2º Quartil               0.0              40.0  \n",
       "3º Quartil               0.0              45.0  "
      ]
     },
     "metadata": {},
     "output_type": "display_data"
    }
   ],
   "source": [
    "#Calcular apenas dos atributos numéricos ('1º, 2º e 3º Quartis')\n",
    "medidas = {}\n",
    "for coluna in data.columns:\n",
    "    if pd.api.types.is_numeric_dtype(data[coluna]):\n",
    "        medidas[coluna] = {'1º Quartil': data[coluna].quantile(0.25),'2º Quartil': data[coluna].quantile(0.50),'3º Quartil': data[coluna].quantile(0.75),}\n",
    "df_medidas = pd.DataFrame(medidas)\n",
    "display(df_medidas)"
   ]
  },
  {
   "cell_type": "markdown",
   "id": "f989d33b",
   "metadata": {
    "hidden": true
   },
   "source": [
    "* Moda costuma ser aplicada para dados categóricos"
   ]
  },
  {
   "cell_type": "code",
   "execution_count": 265,
   "id": "5c8e52b1",
   "metadata": {
    "collapsed": true,
    "hidden": true
   },
   "outputs": [
    {
     "data": {
      "text/html": [
       "<div>\n",
       "<style scoped>\n",
       "    .dataframe tbody tr th:only-of-type {\n",
       "        vertical-align: middle;\n",
       "    }\n",
       "\n",
       "    .dataframe tbody tr th {\n",
       "        vertical-align: top;\n",
       "    }\n",
       "\n",
       "    .dataframe thead th {\n",
       "        text-align: right;\n",
       "    }\n",
       "</style>\n",
       "<table border=\"1\" class=\"dataframe\">\n",
       "  <thead>\n",
       "    <tr style=\"text-align: right;\">\n",
       "      <th></th>\n",
       "      <th>Classe Trabalhadora</th>\n",
       "      <th>Educacao</th>\n",
       "      <th>Estado Civil</th>\n",
       "      <th>Ocupacao</th>\n",
       "      <th>Relacionamento</th>\n",
       "      <th>Raca</th>\n",
       "      <th>Sexo</th>\n",
       "      <th>Pais Nativo</th>\n",
       "      <th>Renda</th>\n",
       "    </tr>\n",
       "  </thead>\n",
       "  <tbody>\n",
       "    <tr>\n",
       "      <th>Moda</th>\n",
       "      <td>Private</td>\n",
       "      <td>HS-grad</td>\n",
       "      <td>Married-civ-spouse</td>\n",
       "      <td>Prof-specialty</td>\n",
       "      <td>Husband</td>\n",
       "      <td>White</td>\n",
       "      <td>Male</td>\n",
       "      <td>United-States</td>\n",
       "      <td>&lt;=50K</td>\n",
       "    </tr>\n",
       "  </tbody>\n",
       "</table>\n",
       "</div>"
      ],
      "text/plain": [
       "     Classe Trabalhadora  Educacao         Estado Civil         Ocupacao  \\\n",
       "Moda             Private   HS-grad   Married-civ-spouse   Prof-specialty   \n",
       "\n",
       "     Relacionamento    Raca   Sexo     Pais Nativo   Renda  \n",
       "Moda        Husband   White   Male   United-States   <=50K  "
      ]
     },
     "metadata": {},
     "output_type": "display_data"
    }
   ],
   "source": [
    "#Moda para atributos categóricos\n",
    "medidas = {}\n",
    "for coluna in data.columns:\n",
    "    if not pd.api.types.is_numeric_dtype(data[coluna]):\n",
    "        medidas[coluna] = {'Moda': data[coluna].mode()[0],}\n",
    "df_medidas = pd.DataFrame(medidas)\n",
    "display(df_medidas)"
   ]
  },
  {
   "cell_type": "code",
   "execution_count": 282,
   "id": "7b14694e",
   "metadata": {
    "collapsed": true,
    "hidden": true
   },
   "outputs": [
    {
     "data": {
      "image/png": "[encoded data removed]",
      "text/plain": [
       "<Figure size 800x600 with 1 Axes>"
      ]
     },
     "metadata": {},
     "output_type": "display_data"
    }
   ],
   "source": [
    "df = pd.DataFrame(data['Num Educacao'])\n",
    "plt.figure(figsize=(8, 6))\n",
    "df.boxplot()\n",
    "plt.title('Boxplot dos Atributos')\n",
    "plt.xlabel('Atributos')\n",
    "plt.ylabel('Valores')\n",
    "plt.show()"
   ]
  },
  {
   "cell_type": "code",
   "execution_count": null,
   "id": "8f873820",
   "metadata": {
    "hidden": true
   },
   "outputs": [],
   "source": []
  },
  {
   "cell_type": "markdown",
   "id": "ac56a046",
   "metadata": {
    "hidden": true
   },
   "source": [
    "## Exploração através de medidas de espalhamento"
   ]
  },
  {
   "cell_type": "code",
   "execution_count": null,
   "id": "3bf8e050",
   "metadata": {
    "hidden": true
   },
   "outputs": [],
   "source": []
  },
  {
   "cell_type": "markdown",
   "id": "065158b6",
   "metadata": {
    "hidden": true
   },
   "source": [
    "## Exploração através de medidas de distribuição"
   ]
  },
  {
   "cell_type": "code",
   "execution_count": null,
   "id": "9a986602",
   "metadata": {
    "hidden": true
   },
   "outputs": [],
   "source": []
  },
  {
   "cell_type": "code",
   "execution_count": 158,
   "id": "eb8b1269",
   "metadata": {
    "hidden": true
   },
   "outputs": [
    {
     "data": {
      "text/html": [
       "<div>\n",
       "<style scoped>\n",
       "    .dataframe tbody tr th:only-of-type {\n",
       "        vertical-align: middle;\n",
       "    }\n",
       "\n",
       "    .dataframe tbody tr th {\n",
       "        vertical-align: top;\n",
       "    }\n",
       "\n",
       "    .dataframe thead th {\n",
       "        text-align: right;\n",
       "    }\n",
       "</style>\n",
       "<table border=\"1\" class=\"dataframe\">\n",
       "  <thead>\n",
       "    <tr style=\"text-align: right;\">\n",
       "      <th></th>\n",
       "      <th>Idade</th>\n",
       "      <th>Peso Amostra Final</th>\n",
       "      <th>Num Educacao</th>\n",
       "      <th>Ganho de Capital</th>\n",
       "      <th>Perda de Capital</th>\n",
       "      <th>Horas por Semana</th>\n",
       "    </tr>\n",
       "  </thead>\n",
       "  <tbody>\n",
       "    <tr>\n",
       "      <th>count</th>\n",
       "      <td>32561.000000</td>\n",
       "      <td>3.256100e+04</td>\n",
       "      <td>32561.000000</td>\n",
       "      <td>32561.000000</td>\n",
       "      <td>32561.000000</td>\n",
       "      <td>32561.000000</td>\n",
       "    </tr>\n",
       "    <tr>\n",
       "      <th>mean</th>\n",
       "      <td>38.581647</td>\n",
       "      <td>1.897784e+05</td>\n",
       "      <td>10.080679</td>\n",
       "      <td>1077.648844</td>\n",
       "      <td>87.303830</td>\n",
       "      <td>40.437456</td>\n",
       "    </tr>\n",
       "    <tr>\n",
       "      <th>std</th>\n",
       "      <td>13.640433</td>\n",
       "      <td>1.055500e+05</td>\n",
       "      <td>2.572720</td>\n",
       "      <td>7385.292085</td>\n",
       "      <td>402.960219</td>\n",
       "      <td>12.347429</td>\n",
       "    </tr>\n",
       "    <tr>\n",
       "      <th>min</th>\n",
       "      <td>17.000000</td>\n",
       "      <td>1.228500e+04</td>\n",
       "      <td>1.000000</td>\n",
       "      <td>0.000000</td>\n",
       "      <td>0.000000</td>\n",
       "      <td>1.000000</td>\n",
       "    </tr>\n",
       "    <tr>\n",
       "      <th>25%</th>\n",
       "      <td>28.000000</td>\n",
       "      <td>1.178270e+05</td>\n",
       "      <td>9.000000</td>\n",
       "      <td>0.000000</td>\n",
       "      <td>0.000000</td>\n",
       "      <td>40.000000</td>\n",
       "    </tr>\n",
       "    <tr>\n",
       "      <th>50%</th>\n",
       "      <td>37.000000</td>\n",
       "      <td>1.783560e+05</td>\n",
       "      <td>10.000000</td>\n",
       "      <td>0.000000</td>\n",
       "      <td>0.000000</td>\n",
       "      <td>40.000000</td>\n",
       "    </tr>\n",
       "    <tr>\n",
       "      <th>75%</th>\n",
       "      <td>48.000000</td>\n",
       "      <td>2.370510e+05</td>\n",
       "      <td>12.000000</td>\n",
       "      <td>0.000000</td>\n",
       "      <td>0.000000</td>\n",
       "      <td>45.000000</td>\n",
       "    </tr>\n",
       "    <tr>\n",
       "      <th>max</th>\n",
       "      <td>90.000000</td>\n",
       "      <td>1.484705e+06</td>\n",
       "      <td>16.000000</td>\n",
       "      <td>99999.000000</td>\n",
       "      <td>4356.000000</td>\n",
       "      <td>99.000000</td>\n",
       "    </tr>\n",
       "  </tbody>\n",
       "</table>\n",
       "</div>"
      ],
      "text/plain": [
       "              Idade  Peso Amostra Final  Num Educacao  Ganho de Capital  \\\n",
       "count  32561.000000        3.256100e+04  32561.000000      32561.000000   \n",
       "mean      38.581647        1.897784e+05     10.080679       1077.648844   \n",
       "std       13.640433        1.055500e+05      2.572720       7385.292085   \n",
       "min       17.000000        1.228500e+04      1.000000          0.000000   \n",
       "25%       28.000000        1.178270e+05      9.000000          0.000000   \n",
       "50%       37.000000        1.783560e+05     10.000000          0.000000   \n",
       "75%       48.000000        2.370510e+05     12.000000          0.000000   \n",
       "max       90.000000        1.484705e+06     16.000000      99999.000000   \n",
       "\n",
       "       Perda de Capital  Horas por Semana  \n",
       "count      32561.000000      32561.000000  \n",
       "mean          87.303830         40.437456  \n",
       "std          402.960219         12.347429  \n",
       "min            0.000000          1.000000  \n",
       "25%            0.000000         40.000000  \n",
       "50%            0.000000         40.000000  \n",
       "75%            0.000000         45.000000  \n",
       "max         4356.000000         99.000000  "
      ]
     },
     "execution_count": 158,
     "metadata": {},
     "output_type": "execute_result"
    }
   ],
   "source": [
    "data.describe()"
   ]
  }
 ],
 "metadata": {
  "kernelspec": {
   "display_name": "Python 3 (ipykernel)",
   "language": "python",
   "name": "python3"
  },
  "language_info": {
   "codemirror_mode": {
    "name": "ipython",
    "version": 3
   },
   "file_extension": ".py",
   "mimetype": "text/x-python",
   "name": "python",
   "nbconvert_exporter": "python",
   "pygments_lexer": "ipython3",
   "version": "3.9.1"
  }
 },
 "nbformat": 4,
 "nbformat_minor": 5
}
